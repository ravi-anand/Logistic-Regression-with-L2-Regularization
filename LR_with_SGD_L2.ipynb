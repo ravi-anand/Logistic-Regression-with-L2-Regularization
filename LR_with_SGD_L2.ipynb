{
 "cells": [
  {
   "cell_type": "markdown",
   "metadata": {},
   "source": [
    "# Logistic Regression using L2 Regularization and SGD"
   ]
  },
  {
   "cell_type": "markdown",
   "metadata": {},
   "source": [
    "importing libraries"
   ]
  },
  {
   "cell_type": "code",
   "execution_count": 35,
   "metadata": {},
   "outputs": [],
   "source": [
    "import numpy as np\n",
    "from sklearn.model_selection import train_test_split\n",
    "from sklearn.metrics import confusion_matrix\n",
    "from sklearn.metrics import accuracy_score \n",
    "from sklearn.preprocessing import StandardScaler"
   ]
  },
  {
   "cell_type": "markdown",
   "metadata": {},
   "source": [
    "### 1.1 Data Preprocessing "
   ]
  },
  {
   "cell_type": "markdown",
   "metadata": {},
   "source": [
    "1.1.1 Loding breast cancer dataset from sklearn data library"
   ]
  },
  {
   "cell_type": "code",
   "execution_count": 36,
   "metadata": {},
   "outputs": [],
   "source": [
    "from sklearn.datasets import load_breast_cancer\n",
    "lbc=load_breast_cancer()\n",
    "X=lbc.data\n",
    "y=lbc.target"
   ]
  },
  {
   "cell_type": "markdown",
   "metadata": {},
   "source": [
    "1.1.2 Split data set into train set and test set"
   ]
  },
  {
   "cell_type": "code",
   "execution_count": 37,
   "metadata": {},
   "outputs": [],
   "source": [
    "X_train, X_test, y_train, y_test = train_test_split(X, y, test_size = 0.3, random_state = 1)"
   ]
  },
  {
   "cell_type": "markdown",
   "metadata": {},
   "source": [
    "1.1.3 Normalize dataset"
   ]
  },
  {
   "cell_type": "code",
   "execution_count": 38,
   "metadata": {},
   "outputs": [],
   "source": [
    "sc = StandardScaler()\n",
    "X_train = sc.fit_transform(X_train)\n",
    "X_test = sc.transform(X_test)"
   ]
  },
  {
   "cell_type": "markdown",
   "metadata": {},
   "source": [
    "1.1.4 Applying PCA(Principle component analysis (dimensionality reduction)) on dataset"
   ]
  },
  {
   "cell_type": "markdown",
   "metadata": {},
   "source": [
    "### 1.2 Logistic Regression"
   ]
  },
  {
   "cell_type": "markdown",
   "metadata": {},
   "source": [
    "1.2.1 Sigmoid Function"
   ]
  },
  {
   "cell_type": "code",
   "execution_count": 57,
   "metadata": {},
   "outputs": [],
   "source": [
    "def sigmoid(z):   \n",
    "    return 1 / (1 + np.exp(-z))"
   ]
  },
  {
   "cell_type": "markdown",
   "metadata": {},
   "source": [
    "1.2.2 Predict function"
   ]
  },
  {
   "cell_type": "code",
   "execution_count": 58,
   "metadata": {},
   "outputs": [],
   "source": [
    "def predict(X_test, weights,b):\n",
    "    z = np.dot(X_test,weights)+b        \n",
    "    probs = np.array([sigmoid(i) for i in z])\n",
    "    predictions = np.where(probs >= 0.5, 1, 0)\n",
    "    return predictions,probs"
   ]
  },
  {
   "cell_type": "markdown",
   "metadata": {},
   "source": [
    "1.2.3 Loss function"
   ]
  },
  {
   "cell_type": "code",
   "execution_count": 59,
   "metadata": {},
   "outputs": [],
   "source": [
    "def logLoss(y,yhat):\n",
    "    return -(y*np.log(yhat)+(1-y)*np.log(1-yhat))"
   ]
  },
  {
   "cell_type": "markdown",
   "metadata": {},
   "source": [
    "1.2.4 Logictic Regression function"
   ]
  },
  {
   "cell_type": "code",
   "execution_count": 60,
   "metadata": {},
   "outputs": [],
   "source": [
    "def lr(x, y, x_test, l_rate, epoch):\n",
    "    weights_l2 = np.zeros(np.shape(x)[1])\n",
    "    weight_old = np.zeros(np.shape(x)[1])\n",
    "    loss=np.zeros(epoch)\n",
    "    b=0\n",
    "    m=y.shape[0]\n",
    "    epoch_arr=np.array(range(epoch))\n",
    "    costs=[]\n",
    "    for i in range(epoch):\n",
    "        log_loss=0\n",
    "        for j, row in enumerate(x):\n",
    "            z=np.dot(weights_l2.T,row)+b\n",
    "            yhat=sigmoid(z)\n",
    "            error = y[j] - yhat\n",
    "            weights_l2=np.dot((1-(l_rate)),weights_l2.T)+l_rate*row*error\n",
    "            \n",
    "            log_loss+=logLoss(y[j],yhat)\n",
    "        weight_old=weights_l2\n",
    "            \n",
    "        loss[i]=log_loss/m\n",
    "        \n",
    "                \n",
    "    y_pred_train,train_probs=predict(x,weights_l2,b)\n",
    "    y_pred_test,test_probs=predict(x_test,weights_l2,b)\n",
    "    print(\"LR with L2 weight\")\n",
    "    print(weights_l2)\n",
    "    print(\"loss during training per epoch\")\n",
    "    print(loss)\n",
    "    \n",
    "    return weights_l2, loss,y_pred_train, y_pred_test,test_probs"
   ]
  },
  {
   "cell_type": "markdown",
   "metadata": {},
   "source": [
    "### 1.3 calling Logistc function with dataset learning rate epoch"
   ]
  },
  {
   "cell_type": "markdown",
   "metadata": {},
   "source": [
    "1.3.1 calling lr function"
   ]
  },
  {
   "cell_type": "code",
   "execution_count": 61,
   "metadata": {},
   "outputs": [
    {
     "name": "stdout",
     "output_type": "stream",
     "text": [
      "LR with L2 weight\n",
      "[-0.10880456 -0.08021115 -0.11034444 -0.10303038 -0.06361126 -0.09897151\n",
      " -0.10105393 -0.12119761 -0.06020043  0.00101726 -0.08775955 -0.00971804\n",
      " -0.08599825 -0.07715011  0.01481689 -0.03732683 -0.01162014 -0.04874706\n",
      "  0.0075307   0.00424214 -0.1221484  -0.09476032 -0.12203463 -0.11133548\n",
      " -0.08303719 -0.10841267 -0.11087059 -0.13253162 -0.09454218 -0.07105324]\n",
      "loss during training per epoch\n",
      "[0.33389602 0.30546655 0.3054601  0.3054601  0.3054601  0.3054601\n",
      " 0.3054601  0.3054601  0.3054601  0.3054601 ]\n",
      "train Loss array\n"
     ]
    }
   ],
   "source": [
    "l_rate=0.01\n",
    "n_epoch=10\n",
    "weight, train_loss1,y_pred_train,y_pred_test,test_probs = lr(X_train, y_train, X_test, l_rate, n_epoch)\n",
    "print(\"train Loss array\")\n"
   ]
  },
  {
   "cell_type": "markdown",
   "metadata": {},
   "source": [
    "1.3.2 calculating cunfusion mtrix and accuracy score"
   ]
  },
  {
   "cell_type": "code",
   "execution_count": 62,
   "metadata": {},
   "outputs": [
    {
     "name": "stdout",
     "output_type": "stream",
     "text": [
      "LR with L2 confusion matrix\n",
      "[[140   9]\n",
      " [ 14 235]]\n",
      "LR with L2 accuracy score\n",
      "0.9422110552763819\n"
     ]
    }
   ],
   "source": [
    "print(\"LR with L2 confusion matrix\")\n",
    "print(confusion_matrix(y_train,y_pred_train))\n",
    "print(\"LR with L2 accuracy score\")\n",
    "print(accuracy_score(y_train,y_pred_train))"
   ]
  },
  {
   "cell_type": "code",
   "execution_count": 63,
   "metadata": {},
   "outputs": [
    {
     "name": "stdout",
     "output_type": "stream",
     "text": [
      "log loss of test\n",
      "0.3321128749519511\n"
     ]
    }
   ],
   "source": [
    "m1=y_test.shape[0]\n",
    "log_loss_test=0\n",
    "for i in range(m1):\n",
    "    a=logLoss(y_test[i],test_probs[i])\n",
    "    log_loss_test+=a\n",
    "\n",
    "print(\"log loss of test\")\n",
    "print(log_loss_test/m1)"
   ]
  },
  {
   "cell_type": "code",
   "execution_count": 64,
   "metadata": {},
   "outputs": [
    {
     "name": "stdout",
     "output_type": "stream",
     "text": [
      "LR with L2 confusion matrix\n",
      "[[ 58   5]\n",
      " [  7 101]]\n",
      "LR with L2 accuracy score\n",
      "0.9298245614035088\n"
     ]
    }
   ],
   "source": [
    "print(\"LR with L2 confusion matrix\")\n",
    "print(confusion_matrix(y_test,y_pred_test))\n",
    "print(\"LR with L2 accuracy score\")\n",
    "print(accuracy_score(y_test,y_pred_test))"
   ]
  },
  {
   "cell_type": "code",
   "execution_count": 65,
   "metadata": {},
   "outputs": [
    {
     "name": "stderr",
     "output_type": "stream",
     "text": [
      "/home/ravi/anaconda3/lib/python3.7/site-packages/sklearn/linear_model/logistic.py:433: FutureWarning: Default solver will be changed to 'lbfgs' in 0.22. Specify a solver to silence this warning.\n",
      "  FutureWarning)\n"
     ]
    }
   ],
   "source": [
    "from sklearn.linear_model import LogisticRegression\n",
    "from sklearn.feature_selection import SelectFromModel\n",
    "clf = LogisticRegression(penalty = 'l2', C = 0.01)\n",
    "clf.fit(X_train_pca, y_train)\n",
    "y_pred=clf.predict(X_test_pca)"
   ]
  },
  {
   "cell_type": "code",
   "execution_count": 66,
   "metadata": {},
   "outputs": [
    {
     "name": "stdout",
     "output_type": "stream",
     "text": [
      "LR with L2 confusion matrix\n",
      "[[ 57   6]\n",
      " [  3 105]]\n",
      "LR with L2 accuracy score\n",
      "0.9473684210526315\n"
     ]
    }
   ],
   "source": [
    "print(\"LR with L2 confusion matrix\")\n",
    "print(confusion_matrix(y_test,y_pred))\n",
    "print(\"LR with L2 accuracy score\")\n",
    "print(accuracy_score(y_test,y_pred))"
   ]
  },
  {
   "cell_type": "markdown",
   "metadata": {},
   "source": [
    "Visualizing epoch vs train loss"
   ]
  },
  {
   "cell_type": "code",
   "execution_count": 67,
   "metadata": {},
   "outputs": [],
   "source": [
    "import matplotlib.pyplot as plt"
   ]
  },
  {
   "cell_type": "code",
   "execution_count": 68,
   "metadata": {},
   "outputs": [
    {
     "data": {
      "image/png": "[encoded data removed]",
      "text/plain": [
       "<Figure size 432x288 with 1 Axes>"
      ]
     },
     "metadata": {
      "needs_background": "light"
     },
     "output_type": "display_data"
    }
   ],
   "source": [
    "plt.plot(epoch_arr, train_loss1, 'r-')\n",
    "plt.legend(['Training Loss'])\n",
    "plt.xlabel('Epoch')\n",
    "plt.ylabel('Loss')\n",
    "plt.show();"
   ]
  },
  {
   "cell_type": "code",
   "execution_count": null,
   "metadata": {},
   "outputs": [],
   "source": []
  }
 ],
 "metadata": {
  "kernelspec": {
   "display_name": "Python 3",
   "language": "python",
   "name": "python3"
  },
  "language_info": {
   "codemirror_mode": {
    "name": "ipython",
    "version": 3
   },
   "file_extension": ".py",
   "mimetype": "text/x-python",
   "name": "python",
   "nbconvert_exporter": "python",
   "pygments_lexer": "ipython3",
   "version": "3.7.3"
  }
 },
 "nbformat": 4,
 "nbformat_minor": 2
}
